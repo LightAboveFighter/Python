{
 "cells": [
  {
   "cell_type": "markdown",
   "id": "1aec273a",
   "metadata": {},
   "source": [
    "#  Почему NumPy?\n",
    "\n",
    "Какую коллекцию мы чаще всего использовали в предыдущем семестре? - `List()`. Вспомним кличевые особенности:\n",
    "* упорядоченность\n",
    "* доступ по индексу\n",
    "* динамический размер\n",
    "* нет ограничения на тип хранимых данных\n",
    "\n",
    "Для выполнения математических вычислений нам обычно не требуется хранить РАЗНЫЕ типы данных, а только числовые. Обычно речь идёт о векторах и матрицах, к которым вы уже должны были привыкнуть.\n",
    "Тогда встаёт закономерный вопрос: как работать с этими структурами данных и как их хранить?\n",
    "\n",
    "_Вариант №1_: вектора хранить как списки, а матрицы - как списки списков.\n",
    "\n",
    "Перечислим недостатки этого подхода: \n",
    "1) Метод `list.append()` излишен, т.к. математические пространства, обычно не меняют своей размерности. Например, был у нас вектор $\\vec{v} \\in L^2$, который мы хранили списком:\n",
    "```{python}\n",
    "v = [1,2]\n",
    "\n",
    "# и где-то случано сделали append\n",
    "v.append(4)\n",
    "```\n",
    "В таком случае запись $\\vec{v} \\in L^2$ будет не верна. __Другими словами: вектор в линейном пространстве не умеет сам по себе трансформироваться в вектор другого линейного пространства.__\n",
    "\n",
    "2) Необходимо следить за соблюдением размерности матриц, чтобы все строки и столбцы имели одинаковый размер. Это может быть особенно важно, если на разных строках матрицы хранятся числа разных порядков:\n",
    "```{python}\n",
    "m = [\n",
    "[121, 10032, 23432, 433, 23324, 1223123, 1212, 10000, 87665, 223],\n",
    "[0, 0, 0, 0, 0, 0, 0, 0, 0, 0]]\n",
    "```\n",
    "\n",
    "3) Сложность программирования матричных и векторных операций. `List` сам по себе их не поддерживает, т.к. у него другая философия. Поэтому, чтобы сложить два вектора $\\vec{x} + \\vec{y}$, нам придётся написать что-то такое:\n",
    "```{python}\n",
    "z = [x_ + y_ for x_, y_ in zip(x, y)]\n",
    "```\n",
    "С матрицами дело обстоит ещё сложнее.\n",
    "\n",
    "\n",
    "На прошлом занятии вы должны были попытаться реализовать такой контейнер, моделирующий работу одномерного вектора `Array1d`. Строго говоря, никто не мешает нам реализовать аналогичный класс для матриц, например `Array2d`. А потом можно замахнуться и на n-мерные тензора. Но вы уже должны представить, как сложно будет это реализовать, а потом ещё и расширить функционал, для решения систем уравнений, для моделирования процессов, для решения задач мат.статистики и др.\n",
    "\n",
    "К тому же есть ещё один существенный недостаток, который мы пока не озвучили:\n",
    "\n",
    "4) Скорость работы - все перечисленные нами операции выполняются последовательно и нерационально с точки зрения потребления вычислительных ресурсов. На следующих курсах будет уделено особое внимание тому, как можно распараллеливать выполнение векторных и матричных операций, ускоряя вычисления в десятки раз. Позже приведём пример.\n",
    "\n",
    "Думаю, этого будет достаточно, чтобы сделать вывод, что такой варинат хранения векторов и матриц нам не подходит. \n",
    "\n",
    "Специально для решения таких задач существует библиотека с открытым исходным кодом `numpy` (Numerical Python). Она не входит в список стандартных пакет `Python`, но ставится с помощью установщика пакетов `pip`, и поставляется вместе с пакетом программ Anaconda. Для данной библиотеки существует общеприянтое сокращение `np`, поэтому большинство ваших программ будет начинаться со строчки:\n",
    "```{Python}\n",
    "import numpy as np\n",
    "```\n",
    "\n",
    "Основные приемущества этой библиотеки:\n",
    "1. Простота работы с многоразмерными матрицами и тензорами\n",
    "2. Скорость работы благодаря оптимизации и распараллеливанию на уровне языка C\n",
    "3. Интеграция с другими библиотеками: SciPy и Matplotlib, о которых мы поговорим позже.\n",
    "\n",
    "В течение следующих лет на разных курсах вам нужно будет производить научные вычисления разного рода, поэтому советую не пропускать занятия. Также библиотека `numpy` является отправной точкой для практического изучения Машинного Обучения. Поэтому, если вы в дальнейшем захотите углубиться в эту тему, то вам также потребуется освоить `numpy`.\n",
    "\n",
    "На этом вводная часть заканчивается."
   ]
  },
  {
   "cell_type": "markdown",
   "id": "f3504325",
   "metadata": {},
   "source": [
    "# Numpy - массивы\n",
    "\n",
    "Центральная структура данных в `NumPy` - это массивы. Массивы в `numpy` могут иметь 1, 2 и больше размерностей, поэтому тип данных называется соответсвующе: `ndarray`.\n",
    "В отличие от `List`-ов в `Python` - нумпаевские массивы являются массивами в прямом смысле этого слова.\n",
    "\n",
    "__Определение__ : __Массив__ — это ***упорядоченный набор однотипных элементов***.\n",
    "\n",
    "Запомните это определение! Списки в `Python` массивами в прямом смысле этого слова не являются.\n",
    "\n",
    "Для начала мы научимся создавать `numpy`-массивы.\n",
    "\n",
    "## Созданием массивов\n",
    "\n",
    "Создадим наш первый массив."
   ]
  },
  {
   "cell_type": "code",
   "execution_count": 1,
   "id": "f1a3b08e",
   "metadata": {},
   "outputs": [],
   "source": [
    "import numpy as np\n",
    "arr = np.array([1, 2, 3, 4, 5, 6])"
   ]
  },
  {
   "cell_type": "code",
   "execution_count": 2,
   "id": "e3240619",
   "metadata": {},
   "outputs": [
    {
     "name": "stdout",
     "output_type": "stream",
     "text": [
      "<class 'numpy.ndarray'>\n",
      "(6,)\n"
     ]
    }
   ],
   "source": [
    "# произведём классические исследования\n",
    "print(type(arr))    # numpy.ndarray\n",
    "# help(arr)           # много информации про поля и методы\n",
    "print(arr.shape)    # (6) - shape - это кортеж размерностей!"
   ]
  },
  {
   "cell_type": "code",
   "execution_count": 3,
   "id": "1c9dd9bf",
   "metadata": {},
   "outputs": [
    {
     "name": "stdout",
     "output_type": "stream",
     "text": [
      "1 3 6\n",
      "[ 1  2  3 44  5  6]\n"
     ]
    }
   ],
   "source": [
    "# есть доступ по индексу:\n",
    "print(arr[0], arr[2], arr[-1]) # 1 3 6\n",
    "arr[3] = 44\n",
    "print(arr)          # [1, 2, 3, 44, 5, 6]"
   ]
  },
  {
   "cell_type": "code",
   "execution_count": 4,
   "id": "4c42ddb6",
   "metadata": {},
   "outputs": [
    {
     "name": "stdout",
     "output_type": "stream",
     "text": [
      "(2, 4)\n",
      "[[3 2 1 0]\n",
      " [4 5 6 7]]\n"
     ]
    }
   ],
   "source": [
    "# чтобы создать матрицу, нужно в конструктор\n",
    "# подать список списков\n",
    "mat = np.array([[3, 2, 1, 0], [4, 5, 6, 7]])\n",
    "print(mat.shape)    # (2, 4): 2 строки, 4 столбца\n",
    "print(mat)          # красиво напечатается матрица"
   ]
  },
  {
   "cell_type": "code",
   "execution_count": 5,
   "id": "a76758a1",
   "metadata": {},
   "outputs": [
    {
     "name": "stdout",
     "output_type": "stream",
     "text": [
      "6\n",
      "[30  2  1  0]\n"
     ]
    }
   ],
   "source": [
    "# для доступа к элементу можно указывать \n",
    "# индексы в одной паре квадратных скобок\n",
    "print(mat[1, 2])    # 6\n",
    "mat[0, 0] = 30\n",
    "print(mat[0])       # первая строчка матрицы: [30, 2, 1, 0]"
   ]
  },
  {
   "cell_type": "markdown",
   "id": "2918a6fd",
   "metadata": {},
   "source": [
    "Т.е. на первый взгляд `numpy`-массивы предоставляют тот же функционал, что и `List`-ы.  \n",
    "\n",
    "Часто будут возникать ситуации, когда вам нужно создать массив с особым заполнением:\n",
    "* матрица нулей\n",
    "* матрица единиц\n",
    "* диагональная матрица\n",
    "* массив случайных чисел\n",
    "* просто пустой массив (чтобы заранее выделить память)\n",
    "\n",
    "Для создания таких массив уже сущестуют встроенные функции"
   ]
  },
  {
   "cell_type": "code",
   "execution_count": 6,
   "id": "aaeabc50",
   "metadata": {},
   "outputs": [
    {
     "name": "stdout",
     "output_type": "stream",
     "text": [
      "[0. 0. 0. 0.]\n",
      "[[0. 0. 0. 0.]\n",
      " [0. 0. 0. 0.]\n",
      " [0. 0. 0. 0.]\n",
      " [0. 0. 0. 0.]]\n"
     ]
    }
   ],
   "source": [
    "# нулевые массивы\n",
    "zero1 = np.zeros(4)\n",
    "print(zero1)\n",
    "\n",
    "zero2 = np.zeros((4,4))\n",
    "print(zero2)"
   ]
  },
  {
   "cell_type": "code",
   "execution_count": 7,
   "id": "a2c8afb8",
   "metadata": {},
   "outputs": [
    {
     "name": "stdout",
     "output_type": "stream",
     "text": [
      "[0 0 0 0 0 0]\n",
      "[[0 0 0 0]\n",
      " [0 0 0 0]]\n"
     ]
    }
   ],
   "source": [
    "# нулевые массивы на основе уже имеющихся массивов\n",
    "zero3 = np.zeros_like(arr)\n",
    "print(zero3)\n",
    "\n",
    "zero4 = np.zeros_like(mat)\n",
    "print(zero4)"
   ]
  },
  {
   "cell_type": "code",
   "execution_count": 8,
   "id": "c594ce12",
   "metadata": {},
   "outputs": [
    {
     "name": "stdout",
     "output_type": "stream",
     "text": [
      "[1. 1. 1. 1.]\n",
      "[[1. 1. 1. 1.]\n",
      " [1. 1. 1. 1.]\n",
      " [1. 1. 1. 1.]\n",
      " [1. 1. 1. 1.]]\n"
     ]
    }
   ],
   "source": [
    "# единичные массивы\n",
    "one1 = np.ones(4)\n",
    "print(one1)\n",
    "\n",
    "one2 = np.ones((4,4))\n",
    "print(one2)"
   ]
  },
  {
   "cell_type": "code",
   "execution_count": 9,
   "id": "5e71d4dc",
   "metadata": {},
   "outputs": [
    {
     "name": "stdout",
     "output_type": "stream",
     "text": [
      "[1 1 1 1 1 1]\n",
      "[[1 1 1 1]\n",
      " [1 1 1 1]]\n"
     ]
    }
   ],
   "source": [
    "# единичные массивы на основе уже имеющихся массивов\n",
    "one3 = np.ones_like(arr)\n",
    "print(one3)\n",
    "\n",
    "one4 = np.ones_like(mat)\n",
    "print(one4)"
   ]
  },
  {
   "cell_type": "code",
   "execution_count": 10,
   "id": "7a08b6e3",
   "metadata": {},
   "outputs": [
    {
     "name": "stdout",
     "output_type": "stream",
     "text": [
      "[[ 1  0  0  0  0  0]\n",
      " [ 0  2  0  0  0  0]\n",
      " [ 0  0  3  0  0  0]\n",
      " [ 0  0  0 44  0  0]\n",
      " [ 0  0  0  0  5  0]\n",
      " [ 0  0  0  0  0  6]]\n"
     ]
    }
   ],
   "source": [
    "# диагольные матрицы\n",
    "diag1 = np.diag(arr)\n",
    "print(diag1)"
   ]
  },
  {
   "cell_type": "code",
   "execution_count": 11,
   "id": "6143efbf",
   "metadata": {},
   "outputs": [
    {
     "name": "stdout",
     "output_type": "stream",
     "text": [
      "[[1. 0. 0. 0.]\n",
      " [0. 1. 0. 0.]\n",
      " [0. 0. 1. 0.]\n",
      " [0. 0. 0. 1.]]\n"
     ]
    }
   ],
   "source": [
    "diag2 = np.eye(4)\n",
    "print(diag2)"
   ]
  },
  {
   "cell_type": "code",
   "execution_count": 12,
   "id": "86940d0c",
   "metadata": {},
   "outputs": [
    {
     "name": "stdout",
     "output_type": "stream",
     "text": [
      "[[0. 1. 0. 0.]\n",
      " [0. 0. 1. 0.]\n",
      " [0. 0. 0. 1.]\n",
      " [0. 0. 0. 0.]]\n"
     ]
    }
   ],
   "source": [
    "diag3 = np.eye(4, k=1)\n",
    "print(diag3)"
   ]
  },
  {
   "cell_type": "code",
   "execution_count": 13,
   "id": "736df7da",
   "metadata": {},
   "outputs": [
    {
     "name": "stdout",
     "output_type": "stream",
     "text": [
      "[[0. 0. 0. 0.]\n",
      " [0. 0. 0. 0.]\n",
      " [1. 0. 0. 0.]\n",
      " [0. 1. 0. 0.]]\n"
     ]
    }
   ],
   "source": [
    "diag4 = np.eye(4, k=-2)\n",
    "print(diag4)"
   ]
  },
  {
   "cell_type": "code",
   "execution_count": 14,
   "id": "4276d917",
   "metadata": {},
   "outputs": [
    {
     "name": "stdout",
     "output_type": "stream",
     "text": [
      "[ 1 -4  7 -8 -7]\n",
      "[[ -7   2   6   7  -5]\n",
      " [  3  -8   1   0 -10]\n",
      " [ -2   2   3   8  -7]\n",
      " [ -6  -7  -9 -10   8]\n",
      " [  8   6  -4   3  -1]]\n"
     ]
    }
   ],
   "source": [
    "# массивы случайных чисел\n",
    "np.random.seed(12)    # зафиксируем параметр генератора псевдослучайных чисел\n",
    "\n",
    "rarr = np.random.randint(low=-10, high=10, size=5)\n",
    "rmat = np.random.randint(low=-10, high=10, size=(5,5))\n",
    "\n",
    "print(rarr)\n",
    "print(rmat)"
   ]
  },
  {
   "cell_type": "code",
   "execution_count": 15,
   "id": "4819016f",
   "metadata": {},
   "outputs": [
    {
     "name": "stdout",
     "output_type": "stream",
     "text": [
      "[[22388640        0        0        0]\n",
      " [       0        0        0        0]]\n"
     ]
    }
   ],
   "source": [
    "# пустые массивы, заполненные мусорными значениями\n",
    "emat = np.empty_like(mat)\n",
    "print(emat)"
   ]
  },
  {
   "cell_type": "code",
   "execution_count": 26,
   "id": "1d73a2fa",
   "metadata": {},
   "outputs": [
    {
     "name": "stdout",
     "output_type": "stream",
     "text": [
      "[0 1 2 3 4 5 6 7 8 9]\n",
      "[ 3  4  5  6  7  8  9 10 11 12]\n",
      "[ 3  6  9 12]\n"
     ]
    }
   ],
   "source": [
    "# просто массив ариметической прогрессии\n",
    "# работает как обычный range(start, stop. step)\n",
    "\n",
    "print(np.arange(10))\n",
    "print(np.arange(3, 13))\n",
    "print(np.arange(3, 13, 3))"
   ]
  },
  {
   "cell_type": "code",
   "execution_count": 29,
   "id": "9ecad525",
   "metadata": {},
   "outputs": [
    {
     "data": {
      "text/plain": [
       "array([-1. , -0.5,  0. ,  0.5,  1. ])"
      ]
     },
     "execution_count": 29,
     "metadata": {},
     "output_type": "execute_result"
    }
   ],
   "source": [
    "# бывают ситуации, когда нам нужен массив значений ОТ и ДО\n",
    "np.linspace(start=-1, stop=1, num=5)"
   ]
  },
  {
   "cell_type": "markdown",
   "id": "13cde088",
   "metadata": {},
   "source": [
    "## Индексация в массивах\n",
    "\n",
    "### Срезы\n",
    "Аналогично питоновским `List`-ам здесь можно создавать срезы. Только нужно иметь ввиду, что массив имеет несколько размерностей:"
   ]
  },
  {
   "cell_type": "code",
   "execution_count": 98,
   "id": "76f4ae02",
   "metadata": {},
   "outputs": [
    {
     "name": "stdout",
     "output_type": "stream",
     "text": [
      "[[ 1  2  3  4]\n",
      " [ 5  6  7  8]\n",
      " [ 9 10 11 12]]\n"
     ]
    }
   ],
   "source": [
    "m = np.array([[1,2,3,4], [5,6,7,8], [9,10,11,12]])\n",
    "print(m)"
   ]
  },
  {
   "cell_type": "code",
   "execution_count": 100,
   "id": "b821b803",
   "metadata": {},
   "outputs": [
    {
     "name": "stdout",
     "output_type": "stream",
     "text": [
      "[[2 3]\n",
      " [6 7]]\n"
     ]
    }
   ],
   "source": [
    "# первый индекс - строки\n",
    "# второй - столбцы\n",
    "m1 = m[:2, 1:3]\n",
    "print(m1)"
   ]
  },
  {
   "cell_type": "code",
   "execution_count": 102,
   "id": "eec0837d",
   "metadata": {},
   "outputs": [
    {
     "name": "stdout",
     "output_type": "stream",
     "text": [
      "2\n"
     ]
    }
   ],
   "source": [
    "# внутри m1 уже своя индексация - это полноценный массив\n",
    "print(m1[0, 0])"
   ]
  },
  {
   "cell_type": "code",
   "execution_count": 104,
   "id": "d4264d84",
   "metadata": {},
   "outputs": [
    {
     "name": "stdout",
     "output_type": "stream",
     "text": [
      "[[ 1 20  3  4]\n",
      " [ 5  6  7  8]\n",
      " [ 9 10 11 12]]\n"
     ]
    }
   ],
   "source": [
    "# однако для оптимизции numpy не выделяет новую память,\n",
    "# поэтому будьте аккуратны, изменяя срезы\n",
    "m1[0, 0] = 20\n",
    "print(m)"
   ]
  },
  {
   "cell_type": "markdown",
   "id": "1176401e",
   "metadata": {},
   "source": [
    "### Смешанная индексация\n",
    "\n",
    "В рамках порождения подматриц можно совмещать обращения по срезам и обращения по индексам"
   ]
  },
  {
   "cell_type": "code",
   "execution_count": 105,
   "id": "dbfbaadf",
   "metadata": {},
   "outputs": [
    {
     "name": "stdout",
     "output_type": "stream",
     "text": [
      "[7 8]\n"
     ]
    }
   ],
   "source": [
    "m2 = m[1, 2:]\n",
    "print(m2)"
   ]
  },
  {
   "cell_type": "markdown",
   "id": "85fab208",
   "metadata": {},
   "source": [
    "### Списковая индексация\n",
    "\n",
    "По индексу вы можете получить не один, а сразу несколько элементов"
   ]
  },
  {
   "cell_type": "code",
   "execution_count": 113,
   "id": "737eb924",
   "metadata": {},
   "outputs": [
    {
     "data": {
      "text/plain": [
       "array([[ 1,  2,  3],\n",
       "       [ 4,  5,  6],\n",
       "       [ 7,  8,  9],\n",
       "       [10, 11, 12]])"
      ]
     },
     "execution_count": 113,
     "metadata": {},
     "output_type": "execute_result"
    }
   ],
   "source": [
    "arr = np.array([[1,2,3], [4,5,6], [7,8,9], [10, 11, 12]])\n",
    "arr"
   ]
  },
  {
   "cell_type": "code",
   "execution_count": 114,
   "id": "d1928a89",
   "metadata": {},
   "outputs": [
    {
     "name": "stdout",
     "output_type": "stream",
     "text": [
      "[[7 8 9]\n",
      " [1 2 3]]\n"
     ]
    }
   ],
   "source": [
    "# получим несколько строк в нужном нам порядке\n",
    "print(arr[[2, 0]])"
   ]
  },
  {
   "cell_type": "code",
   "execution_count": 115,
   "id": "adae1130",
   "metadata": {},
   "outputs": [
    {
     "name": "stdout",
     "output_type": "stream",
     "text": [
      "[ 2 11]\n"
     ]
    }
   ],
   "source": [
    "# если нам просто нужно за раз взять несколько конкретных элементом,\n",
    "# то используем два списка:\n",
    "print(arr[[0, 3], [1, 1]]) # получу список из двух элементов"
   ]
  },
  {
   "cell_type": "code",
   "execution_count": 118,
   "id": "7113a3b6",
   "metadata": {},
   "outputs": [
    {
     "name": "stdout",
     "output_type": "stream",
     "text": [
      "[ 1  6  7 11]\n"
     ]
    }
   ],
   "source": [
    "# создадим порядок индексов\n",
    "b = [0, 2, 0, 1]\n",
    "\n",
    "# и из каждой строчки возьмём именно эти элементы:\n",
    "print(arr[[0,1,2,3], b])"
   ]
  },
  {
   "cell_type": "code",
   "execution_count": 123,
   "id": "2f0508a6",
   "metadata": {},
   "outputs": [
    {
     "data": {
      "text/plain": [
       "array([[11,  2,  3],\n",
       "       [ 4,  5, 16],\n",
       "       [17,  8,  9],\n",
       "       [10, 21, 12]])"
      ]
     },
     "execution_count": 123,
     "metadata": {},
     "output_type": "execute_result"
    }
   ],
   "source": [
    "# а теперь ещё и изменим именно их:\n",
    "arr[[0,1,2,3], b] += 10\n",
    "arr"
   ]
  },
  {
   "cell_type": "code",
   "execution_count": 122,
   "id": "c5be1ca7",
   "metadata": {},
   "outputs": [
    {
     "data": {
      "text/plain": [
       "array([[ 1,  3,  1,  2],\n",
       "       [ 4,  6,  4,  5],\n",
       "       [ 7,  9,  7,  8],\n",
       "       [10, 12, 10, 11]])"
      ]
     },
     "execution_count": 122,
     "metadata": {},
     "output_type": "execute_result"
    }
   ],
   "source": [
    "# или породим новую матрицу, с помощью среза\n",
    "arr[:, b]"
   ]
  },
  {
   "cell_type": "markdown",
   "id": "de630a71",
   "metadata": {},
   "source": [
    "### Булевая индексация\n",
    "\n",
    "`numpy`-массивы поддерживают групповые логические операции, порождая маски - массивы логических значений."
   ]
  },
  {
   "cell_type": "code",
   "execution_count": 124,
   "id": "52f9c236",
   "metadata": {},
   "outputs": [
    {
     "data": {
      "text/plain": [
       "array([[1, 2],\n",
       "       [3, 4],\n",
       "       [5, 6]])"
      ]
     },
     "execution_count": 124,
     "metadata": {},
     "output_type": "execute_result"
    }
   ],
   "source": [
    "arr  = np.array([[1,2], [3, 4], [5, 6]])\n",
    "arr"
   ]
  },
  {
   "cell_type": "code",
   "execution_count": 125,
   "id": "a3ffc6d1",
   "metadata": {},
   "outputs": [
    {
     "data": {
      "text/plain": [
       "array([[False, False],\n",
       "       [ True,  True],\n",
       "       [ True,  True]])"
      ]
     },
     "execution_count": 125,
     "metadata": {},
     "output_type": "execute_result"
    }
   ],
   "source": [
    "# породим матрицу булевых значений,\n",
    "# где True будет там, где выполняется некоторое условие\n",
    "\n",
    "bool_mat = (arr > 2)\n",
    "bool_mat"
   ]
  },
  {
   "cell_type": "code",
   "execution_count": 126,
   "id": "7682a50b",
   "metadata": {},
   "outputs": [
    {
     "data": {
      "text/plain": [
       "array([3, 4, 5, 6])"
      ]
     },
     "execution_count": 126,
     "metadata": {},
     "output_type": "execute_result"
    }
   ],
   "source": [
    "# а теперь эту маску можно использовать как индекс\n",
    "arr[bool_mat]"
   ]
  },
  {
   "cell_type": "code",
   "execution_count": 127,
   "id": "7cd143c0",
   "metadata": {},
   "outputs": [
    {
     "data": {
      "text/plain": [
       "array([3, 4, 5, 6])"
      ]
     },
     "execution_count": 127,
     "metadata": {},
     "output_type": "execute_result"
    }
   ],
   "source": [
    "# однако нам совсем не обязательно создавать отдельную\n",
    "# матрицу, а выделять нужные элементы сразу:\n",
    "arr[arr > 2]"
   ]
  },
  {
   "cell_type": "markdown",
   "id": "18b8103d",
   "metadata": {},
   "source": [
    "## Поле dtype\n",
    "\n",
    "Любой нумпай-массив - это набор объектов ОДНОГО И ТОГО ЖЕ типа. Нумпа предостваляет самые разные типы данных, но обычно он старается угадать тип, при создании нового массива. Однако, всегда при создании массивы вы можете передать аргумент `dtype`, явно указав необходимый тип данных."
   ]
  },
  {
   "cell_type": "code",
   "execution_count": 128,
   "id": "17039bf9",
   "metadata": {},
   "outputs": [
    {
     "name": "stdout",
     "output_type": "stream",
     "text": [
      "int64\n"
     ]
    }
   ],
   "source": [
    "x = np.array([1, 2])   # Пусть numpy сам выберет тип данных\n",
    "print(x.dtype)"
   ]
  },
  {
   "cell_type": "code",
   "execution_count": 129,
   "id": "3bf5607b",
   "metadata": {},
   "outputs": [
    {
     "name": "stdout",
     "output_type": "stream",
     "text": [
      "float64\n"
     ]
    }
   ],
   "source": [
    "x = np.array([1.0, 2.0])   # Пусть numpy сам выберет тип данных\n",
    "print(x.dtype)"
   ]
  },
  {
   "cell_type": "code",
   "execution_count": 131,
   "id": "22653c1c",
   "metadata": {},
   "outputs": [
    {
     "name": "stdout",
     "output_type": "stream",
     "text": [
      "float64\n"
     ]
    }
   ],
   "source": [
    "# пусть исходные данные будут разного типа\n",
    "x = np.array([1.0, 2])   # Пусть numpy сам выберет тип данных\n",
    "print(x.dtype)"
   ]
  },
  {
   "cell_type": "code",
   "execution_count": 133,
   "id": "25f8459a",
   "metadata": {},
   "outputs": [
    {
     "name": "stdout",
     "output_type": "stream",
     "text": [
      "float64\n"
     ]
    },
    {
     "data": {
      "text/plain": [
       "array([1., 2.])"
      ]
     },
     "execution_count": 133,
     "metadata": {},
     "output_type": "execute_result"
    }
   ],
   "source": [
    "# а теперь явно укажем нужные тип\n",
    "x = np.array([1, 2], dtype=np.float64)\n",
    "print(x.dtype) \n",
    "x"
   ]
  },
  {
   "cell_type": "markdown",
   "id": "b9b7d592",
   "metadata": {},
   "source": [
    "## Математика массивов\n",
    "\n",
    "Большинство базовых математических операций и функций уже перегружены для `numpy`-массивов и выполняются поэлементно. Причём можно использовать как и естественные операторы, так и специальные функции."
   ]
  },
  {
   "cell_type": "code",
   "execution_count": 142,
   "id": "7a312f61",
   "metadata": {},
   "outputs": [
    {
     "name": "stdout",
     "output_type": "stream",
     "text": [
      "[[1. 2.]\n",
      " [3. 4.]]\n",
      "[[5. 6.]\n",
      " [7. 8.]]\n"
     ]
    }
   ],
   "source": [
    "x = np.array([[1,2],[3,4]], dtype=np.float64)\n",
    "y = np.array([[5,6],[7,8]], dtype=np.float64)\n",
    "print(x)\n",
    "print(y)"
   ]
  },
  {
   "cell_type": "code",
   "execution_count": 137,
   "id": "0ab018dc",
   "metadata": {},
   "outputs": [
    {
     "name": "stdout",
     "output_type": "stream",
     "text": [
      "[[ 6.  8.]\n",
      " [10. 12.]]\n",
      "[[ 6.  8.]\n",
      " [10. 12.]]\n"
     ]
    }
   ],
   "source": [
    "print(np.add(x, y))\n",
    "print(x + y)"
   ]
  },
  {
   "cell_type": "code",
   "execution_count": 138,
   "id": "92c11242",
   "metadata": {},
   "outputs": [
    {
     "name": "stdout",
     "output_type": "stream",
     "text": [
      "[[-4. -4.]\n",
      " [-4. -4.]]\n",
      "[[-4. -4.]\n",
      " [-4. -4.]]\n"
     ]
    }
   ],
   "source": [
    "print(np.subtract(x, y))\n",
    "print(x - y)"
   ]
  },
  {
   "cell_type": "code",
   "execution_count": 146,
   "id": "24220435",
   "metadata": {},
   "outputs": [
    {
     "name": "stdout",
     "output_type": "stream",
     "text": [
      "[[ 5. 12.]\n",
      " [21. 32.]]\n",
      "[[ 5. 12.]\n",
      " [21. 32.]]\n"
     ]
    }
   ],
   "source": [
    "# НЕ МАТРИЧНОЕ УМНОЖЕНИЕ !!!\n",
    "print(np.multiply(x, y))\n",
    "print(x * y)"
   ]
  },
  {
   "cell_type": "code",
   "execution_count": 147,
   "id": "03743ee6",
   "metadata": {},
   "outputs": [
    {
     "name": "stdout",
     "output_type": "stream",
     "text": [
      "[[0.2        0.33333333]\n",
      " [0.42857143 0.5       ]]\n",
      "[[0.2        0.33333333]\n",
      " [0.42857143 0.5       ]]\n"
     ]
    }
   ],
   "source": [
    "print(np.divide(x, y))\n",
    "print(x / y)"
   ]
  },
  {
   "cell_type": "code",
   "execution_count": 148,
   "id": "02700ed9",
   "metadata": {},
   "outputs": [
    {
     "name": "stdout",
     "output_type": "stream",
     "text": [
      "[[1.         1.41421356]\n",
      " [1.73205081 2.        ]]\n",
      "[[1.         1.41421356]\n",
      " [1.73205081 2.        ]]\n"
     ]
    }
   ],
   "source": [
    "print(np.sqrt(x))\n",
    "print(x ** 0.5)"
   ]
  },
  {
   "cell_type": "markdown",
   "id": "171c8630",
   "metadata": {},
   "source": [
    "### Правильные операции из линейной алгебры"
   ]
  },
  {
   "cell_type": "code",
   "execution_count": 149,
   "id": "b8326a06",
   "metadata": {},
   "outputs": [
    {
     "name": "stdout",
     "output_type": "stream",
     "text": [
      "[[1. 2.]\n",
      " [3. 4.]]\n",
      "[[5. 6.]\n",
      " [7. 8.]]\n"
     ]
    }
   ],
   "source": [
    "# работа с матрицами\n",
    "x = np.array([[1,2],[3,4]], dtype=np.float64)\n",
    "y = np.array([[5,6],[7,8]], dtype=np.float64)\n",
    "print(x)\n",
    "print(y)"
   ]
  },
  {
   "cell_type": "code",
   "execution_count": 152,
   "id": "11cae1c2",
   "metadata": {},
   "outputs": [
    {
     "name": "stdout",
     "output_type": "stream",
     "text": [
      "[[19. 22.]\n",
      " [43. 50.]]\n",
      "[[19. 22.]\n",
      " [43. 50.]]\n",
      "[[19. 22.]\n",
      " [43. 50.]]\n"
     ]
    }
   ],
   "source": [
    "# произведение матриц\n",
    "print(np.dot(x, y))\n",
    "print(x.dot(y))\n",
    "print(x @ y)"
   ]
  },
  {
   "cell_type": "code",
   "execution_count": 153,
   "id": "d1bbb662",
   "metadata": {},
   "outputs": [],
   "source": [
    "# работа с векторами\n",
    "v = np.array([9,10])\n",
    "w = np.array([11, 12])"
   ]
  },
  {
   "cell_type": "code",
   "execution_count": 156,
   "id": "4658214a",
   "metadata": {},
   "outputs": [
    {
     "name": "stdout",
     "output_type": "stream",
     "text": [
      "219\n",
      "219\n",
      "219\n"
     ]
    }
   ],
   "source": [
    "# скалярное произведение векторов\n",
    "print(v.dot(w))\n",
    "print(np.dot(v, w))\n",
    "print(v @ w)"
   ]
  },
  {
   "cell_type": "code",
   "execution_count": 158,
   "id": "bbd3c342",
   "metadata": {},
   "outputs": [
    {
     "name": "stdout",
     "output_type": "stream",
     "text": [
      "[29. 67.]\n",
      "[29. 67.]\n"
     ]
    }
   ],
   "source": [
    "# произведение матрицы на вектор\n",
    "print(np.dot(x, v))\n",
    "print(x @ v)"
   ]
  },
  {
   "cell_type": "markdown",
   "id": "0ffdaedd",
   "metadata": {},
   "source": [
    "### Групповые математические операции\n",
    "\n",
    "Нумпай очень эфективен в вопросе групповых операций, т.к. оптимизирует и распараллеливает их на уровне языка C"
   ]
  },
  {
   "cell_type": "code",
   "execution_count": 159,
   "id": "9903209b",
   "metadata": {},
   "outputs": [
    {
     "name": "stdout",
     "output_type": "stream",
     "text": [
      "10\n",
      "[4 6]\n",
      "[3 7]\n"
     ]
    }
   ],
   "source": [
    "x = np.array([[1,2],[3,4]])\n",
    "\n",
    "print(np.sum(x))  # Compute sum of all elements; prints \"10\"\n",
    "print(np.sum(x, axis=0))  # Compute sum of each column; prints \"[4 6]\"\n",
    "print(np.sum(x, axis=1))  # Compute sum of each row; prints \"[3 7]\""
   ]
  },
  {
   "cell_type": "code",
   "execution_count": 160,
   "id": "357bc5d7",
   "metadata": {},
   "outputs": [
    {
     "name": "stdout",
     "output_type": "stream",
     "text": [
      "[[1 2]\n",
      " [3 4]]\n",
      "[[1 3]\n",
      " [2 4]]\n",
      "[1 2 3]\n",
      "[1 2 3]\n"
     ]
    }
   ],
   "source": [
    "import numpy as np\n",
    "\n",
    "x = np.array([[1,2], [3,4]])\n",
    "print(x)    # Prints \"[[1 2]\n",
    "            #          [3 4]]\"\n",
    "print(x.T)  # Prints \"[[1 3]\n",
    "            #          [2 4]]\"\n",
    "\n",
    "# Note that taking the transpose of a rank 1 array does nothing:\n",
    "v = np.array([1,2,3])\n",
    "print(v)    # Prints \"[1 2 3]\"\n",
    "print(v.T)  # Prints \"[1 2 3]\""
   ]
  },
  {
   "cell_type": "markdown",
   "id": "55d5120f",
   "metadata": {},
   "source": [
    "## Бродкастинг (расширение)"
   ]
  },
  {
   "cell_type": "markdown",
   "id": "50a4fdc8",
   "metadata": {},
   "source": [
    "__Бродкастинг или расширение__ - это механизм, позволяющий `numpy`-ю работать с массивамиразных размерностей при выполнении арифметических операций.  \n",
    "\n",
    "Обычно у нас есть \"большой\" массив (например, матрица) и \"маленький\" (например, вектор или число), которой \"расширяется\" до размеров большого массива. Этот механиз позволяет векторизировать вычисления, оптимизируя их на уровне языка C как по памяти, так и по времени.  \n",
    "Однако, нужно иметь ввиду, что идея бродкастинга не всегда является наиболее эффективной и может привести к неэффективному использованию памяти."
   ]
  },
  {
   "cell_type": "markdown",
   "id": "88bf0bd5",
   "metadata": {},
   "source": [
    "Как мы уже выяснили: когда массивы имеют одинаковые размеры, поэлементные операции выполняются естественным поэлементным путём:"
   ]
  },
  {
   "cell_type": "code",
   "execution_count": 85,
   "id": "3b1b59eb",
   "metadata": {},
   "outputs": [
    {
     "data": {
      "text/plain": [
       "array([2., 4., 6.])"
      ]
     },
     "execution_count": 85,
     "metadata": {},
     "output_type": "execute_result"
    }
   ],
   "source": [
    "a = np.array([1.0, 2.0, 3.0])\n",
    "b = np.array([2.0, 2.0, 2.0])\n",
    "a * b"
   ]
  },
  {
   "cell_type": "markdown",
   "id": "5b93418f",
   "metadata": {},
   "source": [
    "Бродкастинг позволяет избежать создания подобного массива двоек. Простейший пример броадкастинга - это взаимодействие массива со скаляром:"
   ]
  },
  {
   "cell_type": "code",
   "execution_count": 86,
   "id": "b7768c8f",
   "metadata": {},
   "outputs": [
    {
     "data": {
      "text/plain": [
       "array([2., 4., 6.])"
      ]
     },
     "execution_count": 86,
     "metadata": {},
     "output_type": "execute_result"
    }
   ],
   "source": [
    "a * 2"
   ]
  },
  {
   "cell_type": "markdown",
   "id": "a024ad01",
   "metadata": {},
   "source": [
    "Результат идентичен предыдущему.  \n",
    "\n",
    "Рассмотрим другой показательный пример.  \n",
    "Пусть у нас есть матрица $\\mathbf{x}$ и вектор $\\vec{v}$, который нужно прибавить **к каждой строке матрицы $\\mathbf{x}$**."
   ]
  },
  {
   "cell_type": "code",
   "execution_count": 87,
   "id": "652f173e",
   "metadata": {},
   "outputs": [
    {
     "name": "stdout",
     "output_type": "stream",
     "text": [
      "[[ 1  2  3]\n",
      " [ 4  5  6]\n",
      " [ 7  8  9]\n",
      " [10 11 12]]\n",
      "[1 0 1]\n"
     ]
    }
   ],
   "source": [
    "x = np.array([[1,2,3], [4,5,6], [7,8,9], [10, 11, 12]])\n",
    "v = np.array([1, 0, 1])\n",
    "\n",
    "print(x)\n",
    "print(v)"
   ]
  },
  {
   "cell_type": "code",
   "execution_count": 88,
   "id": "2d9d2c81",
   "metadata": {},
   "outputs": [
    {
     "name": "stdout",
     "output_type": "stream",
     "text": [
      "CPU times: user 274 µs, sys: 16 µs, total: 290 µs\n",
      "Wall time: 234 µs\n"
     ]
    },
    {
     "data": {
      "text/plain": [
       "array([[ 2,  2,  4],\n",
       "       [ 5,  5,  7],\n",
       "       [ 8,  8, 10],\n",
       "       [11, 11, 13]])"
      ]
     },
     "execution_count": 88,
     "metadata": {},
     "output_type": "execute_result"
    }
   ],
   "source": [
    "%%time\n",
    "# способ №1: создание соразмерной матрицы в цикле\n",
    "y = np.empty_like(x)\n",
    "\n",
    "for i in range(x.shape[0]):\n",
    "    y[i, :] = v\n",
    "\n",
    "x + y"
   ]
  },
  {
   "cell_type": "markdown",
   "id": "861ba828",
   "metadata": {},
   "source": [
    "Работает! Но...если бы матрица $\\mathbf{x}$ была очень большой, то этот работал бы очень медлено. Однако можно оптимизировать создание матрицы $\\mathbf{y}$:"
   ]
  },
  {
   "cell_type": "code",
   "execution_count": 89,
   "id": "e89d375c",
   "metadata": {},
   "outputs": [
    {
     "name": "stdout",
     "output_type": "stream",
     "text": [
      "CPU times: user 113 µs, sys: 7 µs, total: 120 µs\n",
      "Wall time: 125 µs\n"
     ]
    },
    {
     "data": {
      "text/plain": [
       "array([[ 2,  2,  4],\n",
       "       [ 5,  5,  7],\n",
       "       [ 8,  8, 10],\n",
       "       [11, 11, 13]])"
      ]
     },
     "execution_count": 89,
     "metadata": {},
     "output_type": "execute_result"
    }
   ],
   "source": [
    "%%time\n",
    "# способ №2: создание соразмерной матрицы с помощью спец. метода\n",
    "y = np.tile(v, (4,1))\n",
    "\n",
    "x + y"
   ]
  },
  {
   "cell_type": "markdown",
   "id": "e0081eec",
   "metadata": {},
   "source": [
    "Однако и здесь механиз бродкастинга может упростить нам жизнь, автоматически расширив \"маленикий\" вектор $\\vec{v}$ до размеров \"большой\" матрицы $\\mathbf{x}$:"
   ]
  },
  {
   "cell_type": "code",
   "execution_count": 90,
   "id": "a54ba650",
   "metadata": {},
   "outputs": [
    {
     "name": "stdout",
     "output_type": "stream",
     "text": [
      "CPU times: user 66 µs, sys: 4 µs, total: 70 µs\n",
      "Wall time: 76.5 µs\n"
     ]
    },
    {
     "data": {
      "text/plain": [
       "array([[ 2,  2,  4],\n",
       "       [ 5,  5,  7],\n",
       "       [ 8,  8, 10],\n",
       "       [11, 11, 13]])"
      ]
     },
     "execution_count": 90,
     "metadata": {},
     "output_type": "execute_result"
    }
   ],
   "source": [
    "%%time\n",
    "x + v"
   ]
  },
  {
   "cell_type": "markdown",
   "id": "055d8e57",
   "metadata": {},
   "source": [
    "### Главные правила бродкастинга\n",
    "\n",
    "При работе с двумя массивами `NumPy` сравнивает их размерности - аттрибуты `shape`, начиная с конца (справа на лево). Размерности считаются *совместимыми*, если выполняется одно из условий:\n",
    "* они равны\n",
    "* одна из них равна 1  \n",
    "\n",
    "Если ни одно из этих условий не выполняется, то генерируется исключение: `ValueError: operands could not be broadcast together`.  \n",
    "Если у одного массива величина размерности равна 1, а у другого $n$, то первый массив \"копируется\" вдоль этой оси $n$ раз.\n",
    "\n",
    "Добавим, что массивам необазательно иметь одинаковое число размерностей. Так в нашем предыдущем примере:"
   ]
  },
  {
   "cell_type": "code",
   "execution_count": 91,
   "id": "8c401330",
   "metadata": {},
   "outputs": [
    {
     "name": "stdout",
     "output_type": "stream",
     "text": [
      "(4, 3)\n",
      "(3,)\n"
     ]
    }
   ],
   "source": [
    "print(x.shape)\n",
    "print(v.shape)"
   ]
  },
  {
   "cell_type": "markdown",
   "id": "c896960a",
   "metadata": {},
   "source": [
    "### Другие примеры бродкастинга"
   ]
  },
  {
   "cell_type": "code",
   "execution_count": 96,
   "id": "692ac1e6",
   "metadata": {},
   "outputs": [],
   "source": [
    "v = np.array([1, 2, 3])\n",
    "w = np.array([4, 5])"
   ]
  },
  {
   "cell_type": "code",
   "execution_count": 98,
   "id": "4062402a",
   "metadata": {},
   "outputs": [
    {
     "data": {
      "text/plain": [
       "array([[ 4,  5],\n",
       "       [ 8, 10],\n",
       "       [12, 15]])"
      ]
     },
     "execution_count": 98,
     "metadata": {},
     "output_type": "execute_result"
    }
   ],
   "source": [
    "# хотим умножить СТОЛБЕЦ на СТРОКУ, чтобы получить матрицу 3x2\n",
    "v_column = v.reshape((v.shape[0], 1))\n",
    "v_column * w"
   ]
  },
  {
   "cell_type": "code",
   "execution_count": 100,
   "id": "ff4fec25",
   "metadata": {},
   "outputs": [
    {
     "name": "stdout",
     "output_type": "stream",
     "text": [
      "(3, 1)\n",
      "(2,)\n"
     ]
    }
   ],
   "source": [
    "# соотношение размеров\n",
    "print(v_column.shape)\n",
    "print(w.shape)"
   ]
  },
  {
   "cell_type": "code",
   "execution_count": 101,
   "id": "cdb82fe7",
   "metadata": {},
   "outputs": [
    {
     "data": {
      "text/plain": [
       "array([[2, 4, 6],\n",
       "       [5, 7, 9]])"
      ]
     },
     "execution_count": 101,
     "metadata": {},
     "output_type": "execute_result"
    }
   ],
   "source": [
    "x = np.array([[1,2,3], [4,5,6]])\n",
    "\n",
    "# уже пройденный пример\n",
    "x + v"
   ]
  },
  {
   "cell_type": "code",
   "execution_count": 103,
   "id": "f80c7404",
   "metadata": {},
   "outputs": [
    {
     "name": "stdout",
     "output_type": "stream",
     "text": [
      "[[ 5  6  7]\n",
      " [ 9 10 11]]\n",
      "(2, 1)\n",
      "(2, 3)\n"
     ]
    }
   ],
   "source": [
    "# а теперь мы хотим прибывит w к каждому столбцу.\n",
    "# 1 2 3  + 4  = 5 6  7\n",
    "# 4 5 6    5    9 10 11\n",
    "\n",
    "# способ №1 - reshape\n",
    "w_column = w.reshape((w.shape[0], 1))\n",
    "print(x + w_column)\n",
    "\n",
    "print(w_column.shape) # массив \"скопировался\" 3 раза вдоль последней оси\n",
    "print(x.shape)"
   ]
  },
  {
   "cell_type": "code",
   "execution_count": 105,
   "id": "914f3d82",
   "metadata": {},
   "outputs": [
    {
     "name": "stdout",
     "output_type": "stream",
     "text": [
      "[[ 5  6  7]\n",
      " [ 9 10 11]]\n",
      "(2,)\n",
      "(3, 2)\n"
     ]
    }
   ],
   "source": [
    "# способ 2: транспонировани\n",
    "print((x.T + w).T)\n",
    "\n",
    "print(w.shape)\n",
    "print(x.T.shape)"
   ]
  },
  {
   "cell_type": "markdown",
   "id": "9ed45569",
   "metadata": {},
   "source": [
    "Больше информации по бродкастингу есть в [статье](https://numpy.org/doc/stable/user/basics.broadcasting.html) на официальном сайте `NumPy`"
   ]
  },
  {
   "cell_type": "markdown",
   "id": "3fabe36c",
   "metadata": {},
   "source": [
    "### Практический пример\n",
    "\n",
    "Пусть нам дан некоторый фиксированный набор точек на плоскости: "
   ]
  },
  {
   "cell_type": "code",
   "execution_count": 107,
   "id": "bdd1e569",
   "metadata": {},
   "outputs": [
    {
     "data": {
      "text/plain": [
       "array([[180, 159],\n",
       "       [192, 171],\n",
       "       [206, 196],\n",
       "       [162, 174],\n",
       "       [145, 150]])"
      ]
     },
     "execution_count": 107,
     "metadata": {},
     "output_type": "execute_result"
    }
   ],
   "source": [
    "np.random.seed(19)\n",
    "data_base = np.random.randint(140, 210, (5, 2))\n",
    "data_base"
   ]
  },
  {
   "cell_type": "markdown",
   "id": "c8aa58cf",
   "metadata": {},
   "source": [
    "Затем, к нам пришла некоторая новая точка, и для неё необходимо найти **ближайшую точку в бызе данных**"
   ]
  },
  {
   "cell_type": "code",
   "execution_count": 109,
   "id": "380fd3f1",
   "metadata": {},
   "outputs": [
    {
     "data": {
      "text/plain": [
       "array([155, 179])"
      ]
     },
     "execution_count": 109,
     "metadata": {},
     "output_type": "execute_result"
    }
   ],
   "source": [
    "new_point = np.random.randint(140, 210, 2)\n",
    "new_point"
   ]
  },
  {
   "cell_type": "code",
   "execution_count": 112,
   "id": "a371e282",
   "metadata": {},
   "outputs": [
    {
     "name": "stdout",
     "output_type": "stream",
     "text": [
      "closets point is : [162 174]\n"
     ]
    }
   ],
   "source": [
    "# решение, использующее бродкастинг\n",
    "diffs = data_base - new_point\n",
    "dists = np.sqrt(np.sum(diffs**2, axis=1))\n",
    "closest_point_id = np.argmin(dists)\n",
    "print(f\"closets point is : {data_base[closest_point_id]}\")"
   ]
  },
  {
   "cell_type": "code",
   "execution_count": 120,
   "id": "387d2036",
   "metadata": {},
   "outputs": [
    {
     "data": {
      "text/plain": [
       "(140.0, 210.0)"
      ]
     },
     "execution_count": 120,
     "metadata": {},
     "output_type": "execute_result"
    },
    {
     "data": {
      "image/png": "[encoded data removed]",
      "text/plain": [
       "<Figure size 640x480 with 1 Axes>"
      ]
     },
     "metadata": {},
     "output_type": "display_data"
    }
   ],
   "source": [
    "# продемонстрируем это\n",
    "import matplotlib.pyplot as plt\n",
    "\n",
    "fig, ax = plt.subplots()\n",
    "ax.set_aspect(\"equal\")\n",
    "ax.plot(data_base[:, 0], data_base[:, 1], \"o\")\n",
    "ax.plot(new_point[0], new_point[1], \"x\", color=\"red\")\n",
    "\n",
    "ax.set_xlim([140, 210])\n",
    "ax.set_ylim([140, 210])"
   ]
  },
  {
   "cell_type": "markdown",
   "id": "1899d350",
   "metadata": {},
   "source": [
    "Несмотря на кажующуся математическу абстрактность, этот пример в том или ином виде встречается и в анализе данных, и в машинном обучении (например, [алгоритмы кластеризации](https://education.yandex.ru/handbook/ml/article/klasterizaciya) или [KNN](https://habr.com/ru/articles/680004/))"
   ]
  }
 ],
 "metadata": {
  "kernelspec": {
   "display_name": "Python 3 (ipykernel)",
   "language": "python",
   "name": "python3"
  },
  "language_info": {
   "codemirror_mode": {
    "name": "ipython",
    "version": 3
   },
   "file_extension": ".py",
   "mimetype": "text/x-python",
   "name": "python",
   "nbconvert_exporter": "python",
   "pygments_lexer": "ipython3",
   "version": "3.9.13"
  },
  "toc": {
   "base_numbering": 1,
   "nav_menu": {},
   "number_sections": true,
   "sideBar": true,
   "skip_h1_title": false,
   "title_cell": "Table of Contents",
   "title_sidebar": "Contents",
   "toc_cell": false,
   "toc_position": {
    "height": "calc(100% - 180px)",
    "left": "10px",
    "top": "150px",
    "width": "369.6px"
   },
   "toc_section_display": true,
   "toc_window_display": true
  }
 },
 "nbformat": 4,
 "nbformat_minor": 5
}
