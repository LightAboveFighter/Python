{
 "cells": [
  {
   "cell_type": "code",
   "execution_count": 1,
   "id": "a5a81678",
   "metadata": {},
   "outputs": [],
   "source": [
    "import numpy as np"
   ]
  },
  {
   "cell_type": "markdown",
   "id": "415fa8be",
   "metadata": {},
   "source": [
    "# 1\n",
    "\n",
    "Сгенерировать случайную матрицу:\n",
    "* найти сумму элементов\n",
    "* найти минимальный и максимальный элементы\n",
    "* для каждой строки найти минимальный/максимальный элемент\n",
    "* для каждого столбца найти минимальный/максимальный элемент\n",
    "* найте среднее арифметическое всех чисел в матрице."
   ]
  },
  {
   "cell_type": "code",
   "execution_count": 2,
   "id": "8f62cdfc",
   "metadata": {},
   "outputs": [],
   "source": [
    "# Создание случайной матрицы\n",
    "m = np.random.randint(-10, 10, (5, 6))"
   ]
  },
  {
   "cell_type": "code",
   "execution_count": 3,
   "id": "6d163065",
   "metadata": {},
   "outputs": [
    {
     "data": {
      "text/plain": [
       "array([[  7,   6,  -9,   0, -10,   5],\n",
       "       [  6,   9,  -3,  -3,  -9,  -6],\n",
       "       [  3,  -6,  -1,  -9,   5,   6],\n",
       "       [ -6,   6,  -3, -10,   3, -10],\n",
       "       [-10,  -7,   3,   6,  -1,  -2]])"
      ]
     },
     "execution_count": 3,
     "metadata": {},
     "output_type": "execute_result"
    }
   ],
   "source": [
    "\n",
    "m"
   ]
  },
  {
   "cell_type": "code",
   "execution_count": 16,
   "id": "acd8054c",
   "metadata": {},
   "outputs": [],
   "source": [
    "# numpy-решение \n",
    "def f1(m):\n",
    "    r,c = m.shape\n",
    "    \"\"\" rmat - матрица со случайными значениями \"\"\"\n",
    "    print(m)\n",
    "    \n",
    "    sum_, min_, max_ = m.sum(), m.min(), m.max() \n",
    "    print(f\"sum = {sum_}\")\n",
    "    print(f\"min = {min_}\")\n",
    "    print(f\"max = {max_}\")\n",
    "    \n",
    "    mins, maxs = np.zeros(r), np.zeros(r)\n",
    "    mins = m.min(axis=0)\n",
    "    maxs = m.max(axis=0)\n",
    "    # for i in range(r):\n",
    "        # mins[i] = m[i].min()\n",
    "        # maxs[i] = m[i].max()\n",
    "\n",
    "\n",
    "    print(f\"mins in rows : {mins}\")\n",
    "    print(f\"maxs in rows : {maxs}\")\n",
    "    \n",
    "    mins, maxs = np.zeros(c), np.zeros(c)\n",
    "    mins = m.min(axis=1)\n",
    "    maxs = m.max(axis=1)\n",
    "    # for i in range(c):\n",
    "        # mins[i] = m[:, i].min()\n",
    "        # maxs[i] = m[:, i].max()\n",
    "    print(f\"mins in cols : {mins}\")\n",
    "    print(f\"maxs in cols : {maxs}\")\n",
    "    \n",
    "    print(f\"mean : {m.mean()}\")"
   ]
  },
  {
   "cell_type": "code",
   "execution_count": 17,
   "id": "290e6440",
   "metadata": {},
   "outputs": [
    {
     "name": "stdout",
     "output_type": "stream",
     "text": [
      "[[  7   6  -9   0 -10   5]\n",
      " [  6   9  -3  -3  -9  -6]\n",
      " [  3  -6  -1  -9   5   6]\n",
      " [ -6   6  -3 -10   3 -10]\n",
      " [-10  -7   3   6  -1  -2]]\n",
      "sum = -40\n",
      "min = -10\n",
      "max = 9\n",
      "mins in rows : [-10  -7  -9 -10 -10 -10]\n",
      "maxs in rows : [7 9 3 6 5 6]\n",
      "mins in cols : [-10  -9  -9 -10 -10]\n",
      "maxs in cols : [7 9 6 6 6]\n",
      "mean : -1.3333333333333333\n"
     ]
    }
   ],
   "source": [
    "f1(m)"
   ]
  },
  {
   "cell_type": "markdown",
   "id": "c767efcb",
   "metadata": {},
   "source": [
    "# 2\n",
    "Из массива $[1,2,3,\\dots,N]$ получить массив $[1,0,0,2,0,0,3,0,0,...,N,0,0]$ "
   ]
  },
  {
   "cell_type": "code",
   "execution_count": 47,
   "id": "47df239e",
   "metadata": {},
   "outputs": [],
   "source": [
    "def f2(N):\n",
    "    arr2 = np.zeros(N*3, dtype=np.int32)    # модифицированный массив\n",
    "    arr2[::3] = np.arange(1, N+1, dtype=np.int32)\n",
    "    \n",
    "    print(arr2)"
   ]
  },
  {
   "cell_type": "code",
   "execution_count": 48,
   "id": "6d060e03",
   "metadata": {},
   "outputs": [
    {
     "name": "stdout",
     "output_type": "stream",
     "text": [
      "[1 0 0 2 0 0 3 0 0 4 0 0 5 0 0 6 0 0 7 0 0]\n"
     ]
    }
   ],
   "source": [
    "f2(7)"
   ]
  },
  {
   "cell_type": "markdown",
   "id": "167f14c8",
   "metadata": {},
   "source": [
    "# 3\n",
    "\n",
    "Создать следующую квадратную матрицу:\n",
    "\n",
    "\n",
    "$ \\begin{bmatrix}\n",
    "1 & 2 & 3 & 4 & 5 \\\\\n",
    "6 & 7 & 8 & 9 & 10 \\\\\n",
    "11 & 12 & 13 & 14 & 15 \\\\\n",
    "16 & 17 & 18 & 19 & 20 \\\\\n",
    "21 & 22 & 23 & 24 & 25 \n",
    "\\end{bmatrix}  $\n",
    "\n",
    "\n",
    "и написать функцию, создающую такую квадратную матрицу для любого N"
   ]
  },
  {
   "cell_type": "code",
   "execution_count": 68,
   "id": "821c12fc",
   "metadata": {},
   "outputs": [],
   "source": [
    "def f3(N):\n",
    "    m = 1 + np.arange(N**2).reshape(N, N)\n",
    "    print(m)"
   ]
  },
  {
   "cell_type": "code",
   "execution_count": 69,
   "id": "f9a69a76",
   "metadata": {},
   "outputs": [
    {
     "name": "stdout",
     "output_type": "stream",
     "text": [
      "[[ 1  2  3  4  5  6]\n",
      " [ 7  8  9 10 11 12]\n",
      " [13 14 15 16 17 18]\n",
      " [19 20 21 22 23 24]\n",
      " [25 26 27 28 29 30]\n",
      " [31 32 33 34 35 36]]\n"
     ]
    }
   ],
   "source": [
    "f3(6)"
   ]
  },
  {
   "cell_type": "markdown",
   "id": "5b348873",
   "metadata": {},
   "source": [
    "# 4\n",
    "\n",
    "Создать следующую квадратную матрицу:\n",
    "\n",
    "\n",
    "$ \\begin{bmatrix}\n",
    "5 & 4 & 3 & 2 & 1 \\\\\n",
    "4 & 5 & 4 & 3 & 2 \\\\\n",
    "3 & 4 & 5 & 4 & 3 \\\\\n",
    "2 & 3 & 4 & 5 & 4 \\\\\n",
    "1 & 2 & 3 & 4 & 5 \n",
    "\\end{bmatrix}  $\n",
    "\n",
    "\n",
    "и написать функцию, создающую такую квадратную матрицу для любого N"
   ]
  },
  {
   "cell_type": "code",
   "execution_count": 127,
   "id": "7981d03b",
   "metadata": {},
   "outputs": [],
   "source": [
    "def f4(N):\n",
    "    m = np.zeros((N, N))    # итоговая квадратная матрица\n",
    "    for i in range(N):\n",
    "        m += np.eye(N, k=(i-N))*(i)\n",
    "    m += np.eye(N)*N\n",
    "    for i in range(N):\n",
    "        m += np.eye(N, k=(-i+N))*(i)\n",
    "    print(m)"
   ]
  },
  {
   "cell_type": "code",
   "execution_count": 128,
   "id": "798cac62",
   "metadata": {},
   "outputs": [
    {
     "name": "stdout",
     "output_type": "stream",
     "text": [
      "[[6. 5. 4. 3. 2. 1.]\n",
      " [5. 6. 5. 4. 3. 2.]\n",
      " [4. 5. 6. 5. 4. 3.]\n",
      " [3. 4. 5. 6. 5. 4.]\n",
      " [2. 3. 4. 5. 6. 5.]\n",
      " [1. 2. 3. 4. 5. 6.]]\n"
     ]
    }
   ],
   "source": [
    "f4(6)"
   ]
  },
  {
   "cell_type": "markdown",
   "id": "7da9928c",
   "metadata": {},
   "source": [
    "# 5\n",
    "\n",
    "Создать следующую квадратную матрицу:\n",
    "\n",
    "\n",
    "$ \\begin{bmatrix}\n",
    "0 & 1 & 2 & 3 & 4 \\\\\n",
    "1 & 2 & 3 & 4 & 5 \\\\\n",
    "2 & 3 & 4 & 5 & 6 \\\\\n",
    "3 & 4 & 5 & 6 & 7 \\\\\n",
    "4 & 5 & 6 & 7 & 8 \n",
    "\\end{bmatrix}  $\n",
    "\n",
    "\n",
    "и написать функцию, создающую такую матрицу для любого количества строк и столбцов."
   ]
  },
  {
   "cell_type": "code",
   "execution_count": 158,
   "id": "60fe57b9",
   "metadata": {},
   "outputs": [],
   "source": [
    "def f5(r, c):\n",
    "    # mm = np.arange(1, r+1).reshape(r, 1)\n",
    "    m = np.arange(0, r).reshape(r, 1) + np.arange(1, r+1)\n",
    "    # print(mm)\n",
    "    # m = np.zeros((r, c))\n",
    "    print(m-1)\n",
    "    print(np.arange(0, r).reshape(r, 1))\n",
    "    print(np.arange(0, r))"
   ]
  },
  {
   "cell_type": "code",
   "execution_count": 159,
   "id": "aa604b39",
   "metadata": {},
   "outputs": [
    {
     "name": "stdout",
     "output_type": "stream",
     "text": [
      "[[0 1 2 3 4]\n",
      " [1 2 3 4 5]\n",
      " [2 3 4 5 6]\n",
      " [3 4 5 6 7]\n",
      " [4 5 6 7 8]]\n",
      "[[0]\n",
      " [1]\n",
      " [2]\n",
      " [3]\n",
      " [4]]\n",
      "[0 1 2 3 4]\n"
     ]
    }
   ],
   "source": [
    "f5(5, 6)"
   ]
  },
  {
   "cell_type": "code",
   "execution_count": 138,
   "id": "c4f152aa",
   "metadata": {},
   "outputs": [
    {
     "name": "stdout",
     "output_type": "stream",
     "text": [
      "[[    0     1     2 ... 19997 19998 19999]\n",
      " [    1     2     3 ... 19998 19999 20000]\n",
      " [    2     3     4 ... 19999 20000 20001]\n",
      " ...\n",
      " [ 9997  9998  9999 ... 29994 29995 29996]\n",
      " [ 9998  9999 10000 ... 29995 29996 29997]\n",
      " [ 9999 10000 10001 ... 29996 29997 29998]]\n"
     ]
    }
   ],
   "source": [
    "f5(10000, 20000)"
   ]
  },
  {
   "cell_type": "markdown",
   "id": "4ea67ef9",
   "metadata": {},
   "source": [
    "# 6\n",
    "\n",
    "Создать следующую квадратную матрицу:\n",
    "\n",
    "\n",
    "$ \\begin{bmatrix}\n",
    "0 & 1 & 0\\\\\n",
    "1 & 0 & 1\\\\\n",
    "0 & 1 & 0\\\\\n",
    "\\end{bmatrix}  $\n",
    "\n",
    "\n",
    "и написать функцию, создающую такую квадратную матрицу для любого N"
   ]
  },
  {
   "cell_type": "code",
   "execution_count": 205,
   "id": "8f0e3b39",
   "metadata": {},
   "outputs": [],
   "source": [
    "def f6(N):\n",
    "    m = np.zeros((N, N))    # итоговая прямоугольная матрица\n",
    "    m[1::2,::2] = np.ones((N//2,  N//2+(N%2 == 1)))\n",
    "    m[::2, 1::2] = np.ones((N//2 + (N%2 == 1), N//2))\n",
    "    print(m)\n",
    "    print(np.ones((N//2,  N//2+(N%2 == 1))))"
   ]
  },
  {
   "cell_type": "code",
   "execution_count": 206,
   "id": "00506e71",
   "metadata": {},
   "outputs": [
    {
     "name": "stdout",
     "output_type": "stream",
     "text": [
      "[[0. 1. 0. 1. 0. 1. 0. 1. 0. 1. 0. 1. 0. 1. 0.]\n",
      " [1. 0. 1. 0. 1. 0. 1. 0. 1. 0. 1. 0. 1. 0. 1.]\n",
      " [0. 1. 0. 1. 0. 1. 0. 1. 0. 1. 0. 1. 0. 1. 0.]\n",
      " [1. 0. 1. 0. 1. 0. 1. 0. 1. 0. 1. 0. 1. 0. 1.]\n",
      " [0. 1. 0. 1. 0. 1. 0. 1. 0. 1. 0. 1. 0. 1. 0.]\n",
      " [1. 0. 1. 0. 1. 0. 1. 0. 1. 0. 1. 0. 1. 0. 1.]\n",
      " [0. 1. 0. 1. 0. 1. 0. 1. 0. 1. 0. 1. 0. 1. 0.]\n",
      " [1. 0. 1. 0. 1. 0. 1. 0. 1. 0. 1. 0. 1. 0. 1.]\n",
      " [0. 1. 0. 1. 0. 1. 0. 1. 0. 1. 0. 1. 0. 1. 0.]\n",
      " [1. 0. 1. 0. 1. 0. 1. 0. 1. 0. 1. 0. 1. 0. 1.]\n",
      " [0. 1. 0. 1. 0. 1. 0. 1. 0. 1. 0. 1. 0. 1. 0.]\n",
      " [1. 0. 1. 0. 1. 0. 1. 0. 1. 0. 1. 0. 1. 0. 1.]\n",
      " [0. 1. 0. 1. 0. 1. 0. 1. 0. 1. 0. 1. 0. 1. 0.]\n",
      " [1. 0. 1. 0. 1. 0. 1. 0. 1. 0. 1. 0. 1. 0. 1.]\n",
      " [0. 1. 0. 1. 0. 1. 0. 1. 0. 1. 0. 1. 0. 1. 0.]]\n",
      "[[1. 1. 1. 1. 1. 1. 1. 1.]\n",
      " [1. 1. 1. 1. 1. 1. 1. 1.]\n",
      " [1. 1. 1. 1. 1. 1. 1. 1.]\n",
      " [1. 1. 1. 1. 1. 1. 1. 1.]\n",
      " [1. 1. 1. 1. 1. 1. 1. 1.]\n",
      " [1. 1. 1. 1. 1. 1. 1. 1.]\n",
      " [1. 1. 1. 1. 1. 1. 1. 1.]]\n"
     ]
    }
   ],
   "source": [
    "f6(15)"
   ]
  }
 ],
 "metadata": {
  "kernelspec": {
   "display_name": "Python 3 (ipykernel)",
   "language": "python",
   "name": "python3"
  },
  "language_info": {
   "codemirror_mode": {
    "name": "ipython",
    "version": 3
   },
   "file_extension": ".py",
   "mimetype": "text/x-python",
   "name": "python",
   "nbconvert_exporter": "python",
   "pygments_lexer": "ipython3",
   "version": "3.10.12"
  },
  "toc": {
   "base_numbering": 1,
   "nav_menu": {},
   "number_sections": true,
   "sideBar": true,
   "skip_h1_title": true,
   "title_cell": "Table of Contents",
   "title_sidebar": "Contents",
   "toc_cell": false,
   "toc_position": {
    "height": "calc(100% - 180px)",
    "left": "10px",
    "top": "150px",
    "width": "182.4px"
   },
   "toc_section_display": true,
   "toc_window_display": false
  }
 },
 "nbformat": 4,
 "nbformat_minor": 5
}
